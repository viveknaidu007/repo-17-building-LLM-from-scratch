{
 "cells": [
  {
   "cell_type": "code",
   "execution_count": 1,
   "metadata": {},
   "outputs": [
    {
     "name": "stdout",
     "output_type": "stream",
     "text": [
      "cpu\n"
     ]
    }
   ],
   "source": [
    "import torch\n",
    "import numpy as np\n",
    "import time\n",
    "\n",
    "device = 'cuda' if torch.cuda.is_available() else 'cpu'\n",
    "print(device)"
   ]
  },
  {
   "cell_type": "code",
   "execution_count": 4,
   "metadata": {},
   "outputs": [
    {
     "name": "stdout",
     "output_type": "stream",
     "text": [
      "0.00000000\n",
      "CPU times: total: 0 ns\n",
      "Wall time: 0 ns\n"
     ]
    }
   ],
   "source": [
    "%%time\n",
    "start_time = time.time()\n",
    "#matrix operatoins here\n",
    "zeros = torch.zeros(1,1)\n",
    "end_time = time.time()\n",
    "\n",
    "elapsed_time = end_time - start_time\n",
    "print(f\"{elapsed_time:.8f}\")"
   ]
  },
  {
   "cell_type": "markdown",
   "metadata": {},
   "source": [
    "#using the time library to record execution time %%time to record the time taken for the cell to execute"
   ]
  },
  {
   "cell_type": "code",
   "execution_count": 3,
   "metadata": {},
   "outputs": [
    {
     "name": "stdout",
     "output_type": "stream",
     "text": [
      "0.19941759\n",
      "0.15043259\n"
     ]
    }
   ],
   "source": [
    "torch_rand1 = torch.rand(100, 100, 100, 100).to(device)\n",
    "torch_rand2 = torch.rand(100, 100, 100, 100).to(device)\n",
    "np_rand1 = torch.rand(100, 100, 100, 100)\n",
    "np_rand2 = torch.rand(100, 100, 100, 100)\n",
    "\n",
    "start_time = time.time()\n",
    "\n",
    "rand = (torch_rand1 @ torch_rand2)\n",
    "\n",
    "end_time = time.time()\n",
    "\n",
    "elapsed_time = end_time - start_time\n",
    "print(f\"{elapsed_time:.8f}\")\n",
    "\n",
    "\n",
    "start_time = time.time()\n",
    "\n",
    "rand = np.multiply(np_rand1, np_rand2)\n",
    "end_time = time.time()\n",
    "elapsed_time = end_time - start_time\n",
    "print(f\"{elapsed_time:.8f}\")"
   ]
  },
  {
   "cell_type": "code",
   "execution_count": 5,
   "metadata": {},
   "outputs": [
    {
     "name": "stdout",
     "output_type": "stream",
     "text": [
      "tensor([1, 1, 1, 1, 1, 1, 1, 1, 1, 1])\n"
     ]
    }
   ],
   "source": [
    "# embeddings, torch.stack, torch.multinomial, torch.tril, torch.triu, input.T / input.transpose, nn.Linear, torch.cat, F.softmax (show all the examples of functions/methods with pytorch docs)\n",
    "\n",
    "\n",
    "# Define a probability tensor\n",
    "probabilities = torch.tensor([0.1, 0.9])\n",
    "# 10% or 0.1 => 0, 90% or 0.9 => 1. each probability points to the index of the probability in the tensor\n",
    "# Draw 5 samples from the multinomial distribution\n",
    "samples = torch.multinomial(probabilities, num_samples=10, replacement=True)\n",
    "print(samples)"
   ]
  },
  {
   "cell_type": "code",
   "execution_count": 6,
   "metadata": {},
   "outputs": [
    {
     "data": {
      "text/plain": [
       "tensor([1, 2, 3, 4, 5])"
      ]
     },
     "execution_count": 6,
     "metadata": {},
     "output_type": "execute_result"
    }
   ],
   "source": [
    "tensor = torch.tensor([1, 2, 3, 4])\n",
    "out = torch.cat((tensor, torch.tensor([5])), dim=0)\n",
    "out"
   ]
  },
  {
   "cell_type": "code",
   "execution_count": 8,
   "metadata": {},
   "outputs": [
    {
     "data": {
      "text/plain": [
       "tensor([[1., 0., 0., 0., 0.],\n",
       "        [1., 1., 0., 0., 0.],\n",
       "        [1., 1., 1., 0., 0.],\n",
       "        [1., 1., 1., 1., 0.],\n",
       "        [1., 1., 1., 1., 1.]])"
      ]
     },
     "execution_count": 8,
     "metadata": {},
     "output_type": "execute_result"
    }
   ],
   "source": [
    "out = torch.tril(torch.ones(5,5))\n",
    "out"
   ]
  },
  {
   "cell_type": "code",
   "execution_count": 9,
   "metadata": {},
   "outputs": [
    {
     "data": {
      "text/plain": [
       "tensor([[1., 1., 1., 1., 1.],\n",
       "        [0., 1., 1., 1., 1.],\n",
       "        [0., 0., 1., 1., 1.],\n",
       "        [0., 0., 0., 1., 1.],\n",
       "        [0., 0., 0., 0., 1.]])"
      ]
     },
     "execution_count": 9,
     "metadata": {},
     "output_type": "execute_result"
    }
   ],
   "source": [
    "out = torch.triu(torch.ones(5, 5))\n",
    "out"
   ]
  },
  {
   "cell_type": "code",
   "execution_count": 11,
   "metadata": {},
   "outputs": [
    {
     "data": {
      "text/plain": [
       "tensor([[0., -inf, -inf, -inf, -inf],\n",
       "        [0., 0., -inf, -inf, -inf],\n",
       "        [0., 0., 0., -inf, -inf],\n",
       "        [0., 0., 0., 0., -inf],\n",
       "        [0., 0., 0., 0., 0.]])"
      ]
     },
     "execution_count": 11,
     "metadata": {},
     "output_type": "execute_result"
    }
   ],
   "source": [
    "out = torch.zeros(5,5).masked_fill(torch.tril(torch.ones(5,5)) == 0, float('-inf'))\n",
    "out"
   ]
  },
  {
   "cell_type": "code",
   "execution_count": 12,
   "metadata": {},
   "outputs": [
    {
     "data": {
      "text/plain": [
       "tensor([[1., 0., 0., 0., 0.],\n",
       "        [1., 1., 0., 0., 0.],\n",
       "        [1., 1., 1., 0., 0.],\n",
       "        [1., 1., 1., 1., 0.],\n",
       "        [1., 1., 1., 1., 1.]])"
      ]
     },
     "execution_count": 12,
     "metadata": {},
     "output_type": "execute_result"
    }
   ],
   "source": [
    "torch.exp(out)"
   ]
  },
  {
   "cell_type": "code",
   "execution_count": 13,
   "metadata": {},
   "outputs": [
    {
     "name": "stdout",
     "output_type": "stream",
     "text": [
      "torch.Size([3, 2, 4])\n",
      "torch.Size([2, 4, 3])\n"
     ]
    }
   ],
   "source": [
    "input = torch.zeros(2, 3, 4)\n",
    "out1 = input.transpose(0, 1)\n",
    "out2 = input.transpose(-2,-1)\n",
    "print(out1.shape)\n",
    "print(out2.shape)\n",
    "# torch.permute works the same but you provide the new order of dimensions instead of the dimensions you'd like to "
   ]
  },
  {
   "cell_type": "code",
   "execution_count": 14,
   "metadata": {},
   "outputs": [
    {
     "data": {
      "text/plain": [
       "tensor([[1, 2, 3],\n",
       "        [4, 5, 6],\n",
       "        [7, 8, 9]])"
      ]
     },
     "execution_count": 14,
     "metadata": {},
     "output_type": "execute_result"
    }
   ],
   "source": [
    "tensor1 = torch.tensor([1, 2, 3])\n",
    "tensor2 = torch.tensor([4, 5, 6])\n",
    "tensor3 = torch.tensor([7, 8, 9])\n",
    "\n",
    "# Stack the tensors along a new dimension\n",
    "stacked_tensor = torch.stack([tensor1, tensor2, tensor3])\n",
    "stacked_tensor"
   ]
  },
  {
   "cell_type": "code",
   "execution_count": 15,
   "metadata": {},
   "outputs": [
    {
     "name": "stdout",
     "output_type": "stream",
     "text": [
      "tensor([-9.5160,  8.6608,  4.6617], grad_fn=<SqueezeBackward4>)\n"
     ]
    }
   ],
   "source": [
    "import torch.nn as nn\n",
    "sample = torch.tensor([10.,10.,10.])\n",
    "linear = nn.Linear(3, 3, bias=False)\n",
    "print(linear(sample))"
   ]
  },
  {
   "cell_type": "code",
   "execution_count": 16,
   "metadata": {},
   "outputs": [
    {
     "name": "stdout",
     "output_type": "stream",
     "text": [
      "tensor([0.0900, 0.2447, 0.6652])\n"
     ]
    }
   ],
   "source": [
    "import torch.nn.functional as F\n",
    "\n",
    "# Create a tensor\n",
    "tensor1 = torch.tensor([1.0, 2.0, 3.0])\n",
    "\n",
    "# Apply softmax using torch.nn.functional.softmax()\n",
    "softmax_output = F.softmax(tensor1, dim=0)\n",
    "\n",
    "print(softmax_output)"
   ]
  },
  {
   "cell_type": "code",
   "execution_count": 17,
   "metadata": {},
   "outputs": [
    {
     "name": "stdout",
     "output_type": "stream",
     "text": [
      "torch.Size([4, 6])\n",
      "tensor([[ 1.5499,  1.1633, -1.0856,  1.3924, -0.2245,  0.4806],\n",
      "        [ 0.8782,  0.8175, -0.1963,  0.6565, -0.4282,  1.0198],\n",
      "        [-0.9098, -0.4809, -0.4917, -0.7188, -2.2022, -0.4755],\n",
      "        [-0.8668,  0.7434,  0.2034,  0.1149,  0.4373, -0.4790]],\n",
      "       grad_fn=<EmbeddingBackward0>)\n"
     ]
    }
   ],
   "source": [
    "# Initialize an embedding layer\n",
    "vocab_size = 80\n",
    "embedding_dim = 6\n",
    "embedding = nn.Embedding(vocab_size, embedding_dim)\n",
    "\n",
    "# Create some input indices\n",
    "input_indices = torch.LongTensor([1, 5, 3, 2])\n",
    "\n",
    "# Apply the embedding layer\n",
    "embedded_output = embedding(input_indices)\n",
    "\n",
    "# The output will be a tensor of shape (4, 100), where 4 is the number of inputs\n",
    "# and 100 is the dimensionality of the embedding vectors\n",
    "print(embedded_output.shape)\n",
    "print(embedded_output)"
   ]
  },
  {
   "cell_type": "code",
   "execution_count": 18,
   "metadata": {},
   "outputs": [
    {
     "name": "stdout",
     "output_type": "stream",
     "text": [
      "tensor([[ 27,  30,  33],\n",
      "        [ 61,  68,  75],\n",
      "        [ 95, 106, 117]])\n"
     ]
    }
   ],
   "source": [
    "a = torch.tensor([[1,2],[3,4],[5,6]])\n",
    "b = torch.tensor([[7,8,9],[10,11,12]])\n",
    "# print(a @ b)\n",
    "print(torch.matmul(a, b))"
   ]
  },
  {
   "cell_type": "code",
   "execution_count": 19,
   "metadata": {},
   "outputs": [
    {
     "name": "stdout",
     "output_type": "stream",
     "text": [
      "tensor([[0., 0., 0.],\n",
      "        [0., 0., 0.],\n",
      "        [0., 0., 0.]])\n"
     ]
    }
   ],
   "source": [
    "int_64 = torch.randint(1, (3, 2)).float()\n",
    "#type int64\n",
    "float_32 = torch.rand(2,3)\n",
    "#type float32\n",
    "# print(int_64.dtype, float_32.dtype)\n",
    "result = torch.matmul(int_64, float_32)\n",
    "print(result)"
   ]
  },
  {
   "cell_type": "code",
   "execution_count": 20,
   "metadata": {},
   "outputs": [
    {
     "name": "stdout",
     "output_type": "stream",
     "text": [
      "torch.Size([2, 3, 5])\n",
      "torch.Size([2, 3, 5])\n"
     ]
    }
   ],
   "source": [
    "a = torch.rand(2, 3, 5)\n",
    "print(a.shape)\n",
    "x, y, z = a.shape\n",
    "a = a.view(x,y,z)\n",
    "# print(x, y, z)\n",
    "print(a.shape)"
   ]
  },
  {
   "cell_type": "code",
   "execution_count": 21,
   "metadata": {},
   "outputs": [
    {
     "name": "stdout",
     "output_type": "stream",
     "text": [
      "tensor([[8.6279e-01, 2.7850e-03, 8.0272e-01, 9.1230e-01, 2.2282e-01, 7.9271e-01,\n",
      "         5.8744e-01, 2.8209e-01, 6.2462e-01, 4.6186e-01],\n",
      "        [2.5312e-01, 1.0534e-01, 2.3005e-01, 6.3746e-01, 8.4550e-01, 3.7358e-01,\n",
      "         9.2046e-01, 1.6509e-01, 9.2152e-01, 9.4179e-01],\n",
      "        [3.8648e-01, 4.6479e-01, 9.7490e-01, 8.3039e-01, 3.8539e-01, 7.8444e-01,\n",
      "         8.2212e-01, 2.0994e-01, 9.9202e-01, 8.9775e-01],\n",
      "        [8.5258e-01, 8.2627e-01, 2.7990e-01, 5.8660e-01, 1.1785e-01, 2.5848e-01,\n",
      "         1.0397e-01, 6.8933e-01, 2.2024e-01, 2.6539e-01],\n",
      "        [7.9048e-02, 5.7493e-01, 1.4135e-01, 8.7725e-01, 2.3816e-01, 6.8688e-01,\n",
      "         5.9432e-01, 7.2453e-01, 1.3327e-01, 8.3443e-01],\n",
      "        [3.6874e-01, 3.1163e-01, 8.6980e-01, 9.2629e-01, 8.5758e-01, 3.8539e-01,\n",
      "         2.9211e-01, 9.0212e-01, 8.4098e-02, 7.7044e-01],\n",
      "        [2.3232e-01, 5.0269e-01, 7.9053e-01, 8.1026e-01, 4.0409e-01, 8.5586e-01,\n",
      "         7.7900e-01, 5.3356e-01, 1.3025e-01, 6.6998e-01],\n",
      "        [8.7699e-01, 8.8617e-01, 7.0744e-01, 2.8726e-01, 9.7971e-01, 8.5624e-03,\n",
      "         4.7604e-01, 6.5627e-01, 7.2536e-01, 6.9174e-01],\n",
      "        [9.6182e-02, 8.6786e-01, 5.1795e-01, 7.2508e-01, 6.1534e-01, 2.4934e-01,\n",
      "         8.9386e-01, 6.5818e-01, 9.2627e-01, 4.8005e-01],\n",
      "        [2.4148e-01, 9.7294e-01, 6.6486e-02, 7.6251e-01, 7.9121e-01, 2.5179e-01,\n",
      "         8.6975e-01, 2.7566e-01, 9.6426e-01, 6.6279e-01],\n",
      "        [2.8461e-01, 3.4222e-01, 9.2988e-01, 1.6320e-02, 5.4517e-01, 2.7580e-01,\n",
      "         4.2311e-01, 6.9634e-02, 4.3766e-01, 7.1594e-01],\n",
      "        [2.1878e-01, 1.3016e-01, 2.2214e-01, 9.3155e-01, 7.3454e-01, 5.7976e-01,\n",
      "         8.4441e-01, 4.7544e-01, 3.7287e-01, 5.9258e-01],\n",
      "        [2.2126e-01, 4.4587e-01, 3.6672e-01, 9.6863e-02, 5.0600e-03, 4.0620e-01,\n",
      "         1.5041e-01, 7.4206e-01, 5.7342e-02, 4.7752e-01],\n",
      "        [8.6258e-01, 2.0033e-01, 1.0795e-02, 8.3630e-01, 6.9252e-01, 8.1886e-01,\n",
      "         6.1211e-01, 8.1958e-01, 2.4337e-01, 4.9835e-01],\n",
      "        [7.4267e-01, 4.9388e-01, 5.6186e-01, 2.2343e-01, 9.7252e-01, 5.4716e-01,\n",
      "         6.3837e-01, 4.9961e-01, 5.6551e-01, 9.0608e-01],\n",
      "        [6.0307e-01, 6.9411e-01, 8.8324e-01, 5.6093e-02, 7.2108e-02, 4.3667e-01,\n",
      "         4.8821e-01, 3.8712e-01, 9.2368e-01, 2.9152e-01],\n",
      "        [2.2351e-01, 5.0805e-01, 3.9778e-01, 6.8936e-01, 6.5290e-01, 9.1351e-01,\n",
      "         4.4739e-01, 2.5582e-01, 9.7430e-01, 4.3061e-01],\n",
      "        [8.9105e-01, 2.0879e-01, 5.2090e-01, 8.9501e-02, 1.0723e-01, 3.3383e-01,\n",
      "         5.1664e-01, 5.3993e-01, 1.7799e-02, 2.3602e-01],\n",
      "        [3.7174e-01, 2.5457e-01, 4.9738e-01, 7.7929e-02, 6.5633e-01, 4.1554e-01,\n",
      "         3.6408e-01, 4.9430e-01, 1.1841e-03, 2.3833e-01],\n",
      "        [4.2378e-01, 8.1793e-01, 3.7217e-01, 7.8688e-01, 3.3344e-01, 7.7025e-01,\n",
      "         6.4600e-01, 4.2045e-01, 3.5981e-01, 5.1709e-03],\n",
      "        [6.3413e-01, 5.3201e-01, 8.6233e-02, 8.3612e-01, 8.9827e-01, 7.4282e-01,\n",
      "         8.8102e-01, 4.8164e-01, 4.5854e-01, 3.6675e-01],\n",
      "        [3.1440e-01, 8.5478e-01, 7.4160e-01, 1.2138e-01, 3.4921e-01, 4.3225e-01,\n",
      "         1.9581e-01, 1.5210e-01, 9.2019e-02, 9.1115e-01],\n",
      "        [8.6587e-02, 6.4002e-01, 4.3963e-01, 7.8189e-01, 1.7814e-01, 3.1305e-01,\n",
      "         4.6530e-01, 5.2920e-01, 7.3211e-01, 3.9536e-01],\n",
      "        [2.5482e-01, 7.2833e-01, 5.5679e-02, 7.0083e-01, 3.0681e-01, 4.8934e-01,\n",
      "         2.0738e-01, 9.9069e-01, 9.5164e-01, 5.2404e-01],\n",
      "        [4.1387e-01, 6.2476e-01, 3.3971e-01, 7.8470e-02, 3.8135e-01, 5.2487e-01,\n",
      "         6.6384e-02, 3.6037e-01, 7.9055e-02, 8.9163e-01],\n",
      "        [5.3517e-01, 7.5341e-01, 3.7598e-01, 2.7409e-01, 6.2491e-01, 9.3559e-01,\n",
      "         1.8741e-01, 6.9071e-01, 3.7279e-01, 9.8853e-01],\n",
      "        [8.1996e-01, 1.1373e-04, 9.5770e-01, 8.8843e-01, 6.2702e-01, 3.8682e-01,\n",
      "         6.1319e-01, 9.6204e-01, 8.0636e-01, 7.5844e-01],\n",
      "        [2.3194e-01, 1.5440e-01, 9.3180e-01, 6.3518e-01, 6.4970e-01, 8.4592e-01,\n",
      "         4.0686e-02, 3.3314e-01, 2.2683e-01, 1.4792e-01],\n",
      "        [2.7005e-02, 4.7503e-01, 4.2680e-01, 2.7958e-01, 7.9622e-01, 3.3874e-01,\n",
      "         7.9076e-01, 9.0202e-01, 6.0195e-01, 2.9621e-02],\n",
      "        [3.0609e-01, 6.3989e-01, 1.9143e-02, 2.8979e-01, 2.7430e-01, 3.2701e-01,\n",
      "         4.8241e-01, 4.9325e-01, 8.9900e-01, 5.1640e-01],\n",
      "        [7.7774e-01, 4.9617e-02, 5.3928e-01, 9.5637e-01, 1.3699e-01, 4.5740e-01,\n",
      "         2.3092e-02, 7.2617e-01, 6.3692e-01, 4.7942e-01],\n",
      "        [5.2018e-01, 6.0349e-01, 9.6010e-01, 5.7215e-02, 4.6548e-01, 9.5663e-01,\n",
      "         5.4231e-01, 5.1985e-01, 8.6540e-01, 2.4668e-01]])\n"
     ]
    },
    {
     "ename": "IndexError",
     "evalue": "too many indices for tensor of dimension 2",
     "output_type": "error",
     "traceback": [
      "\u001b[1;31m---------------------------------------------------------------------------\u001b[0m",
      "\u001b[1;31mIndexError\u001b[0m                                Traceback (most recent call last)",
      "Cell \u001b[1;32mIn[21], line 6\u001b[0m\n\u001b[0;32m      4\u001b[0m \u001b[38;5;28mprint\u001b[39m(output)\n\u001b[0;32m      5\u001b[0m \u001b[38;5;66;03m# print(input)\u001b[39;00m\n\u001b[1;32m----> 6\u001b[0m \u001b[38;5;28mprint\u001b[39m(\u001b[43moutput\u001b[49m\u001b[43m[\u001b[49m\u001b[43m:\u001b[49m\u001b[43m,\u001b[49m\u001b[43m \u001b[49m\u001b[38;5;241;43m-\u001b[39;49m\u001b[38;5;241;43m1\u001b[39;49m\u001b[43m,\u001b[49m\u001b[43m \u001b[49m\u001b[43m:\u001b[49m\u001b[43m]\u001b[49m)\n",
      "\u001b[1;31mIndexError\u001b[0m: too many indices for tensor of dimension 2"
     ]
    }
   ],
   "source": [
    "input = torch.rand((4, 8, 10))\n",
    "B, T, C = input.shape\n",
    "output = input.view(B*T, C)\n",
    "print(output)\n",
    "# print(input)\n",
    "print(output[:, -1, :])"
   ]
  },
  {
   "cell_type": "code",
   "execution_count": 22,
   "metadata": {},
   "outputs": [
    {
     "name": "stdout",
     "output_type": "stream",
     "text": [
      "tensor([1.])\n"
     ]
    }
   ],
   "source": [
    "x = torch.tensor([10], dtype=torch.float32)\n",
    "y = F.tanh(x)\n",
    "print(y)"
   ]
  }
 ],
 "metadata": {
  "kernelspec": {
   "display_name": "mlproj",
   "language": "python",
   "name": "python3"
  },
  "language_info": {
   "codemirror_mode": {
    "name": "ipython",
    "version": 3
   },
   "file_extension": ".py",
   "mimetype": "text/x-python",
   "name": "python",
   "nbconvert_exporter": "python",
   "pygments_lexer": "ipython3",
   "version": "3.8.18"
  }
 },
 "nbformat": 4,
 "nbformat_minor": 2
}
